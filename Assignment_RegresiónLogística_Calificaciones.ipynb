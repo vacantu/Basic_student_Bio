{
  "nbformat": 4,
  "nbformat_minor": 0,
  "metadata": {
    "colab": {
      "name": "Assignment_RegresiónLogística_Calificaciones.ipynb",
      "provenance": [],
      "include_colab_link": true
    },
    "kernelspec": {
      "name": "python3",
      "display_name": "Python 3"
    }
  },
  "cells": [
    {
      "cell_type": "markdown",
      "metadata": {
        "id": "view-in-github",
        "colab_type": "text"
      },
      "source": [
        "<a href=\"https://colab.research.google.com/github/vacantu/Basic_student_Bio/blob/master/Assignment_Regresio%CC%81nLogi%CC%81stica_Calificaciones.ipynb\" target=\"_parent\"><img src=\"https://colab.research.google.com/assets/colab-badge.svg\" alt=\"Open In Colab\"/></a>"
      ]
    },
    {
      "cell_type": "code",
      "metadata": {
        "id": "zXGU6gcKYXMe"
      },
      "source": [
        "#Logisic Regression\n",
        "#Atoany Fierro - Virgilio Cantu\n",
        "#Clasificar alumnos como aprobados y reprobados"
      ],
      "execution_count": null,
      "outputs": []
    },
    {
      "cell_type": "code",
      "metadata": {
        "id": "AuAIFwzYYeNs"
      },
      "source": [
        "#Librerias\n",
        "from matplotlib import pyplot as plt\n",
        "from sklearn.linear_model import LogisticRegression\n",
        "from sklearn.model_selection import train_test_split\n",
        "import numpy as np"
      ],
      "execution_count": null,
      "outputs": []
    },
    {
      "cell_type": "code",
      "metadata": {
        "id": "QPgIhRWJYhaU"
      },
      "source": [
        "#Carga de la base de datos\n",
        "grades = np.loadtxt(r'/content/grades.txt')\n"
      ],
      "execution_count": 7,
      "outputs": []
    },
    {
      "cell_type": "code",
      "metadata": {
        "id": "hEs0jzM8Y-Mk"
      },
      "source": [
        "#Obtención de los datos\n",
        "#Realizar programación para leer las tres columnas del archivo txt\n",
        "#Columna 1: calificaciones del primer examen --> grades[:,0]\n",
        "#Columna 2: calificaciones del segundo examen --> grades[:,1]\n",
        "#Columna 3: aprobado o rechazado (0, 1) --> grades[:,2]\n",
        "\n",
        "#INSERTA TU CÓDIGO AQUI--------------------------------------------------------\n",
        "x1 = grades[:,0]\n",
        "x2 = grades[:,1]\n",
        "y = grades[:,2]\n",
        "#FIN DE TU CÓDIGO--------------------------------------------------------------"
      ],
      "execution_count": 9,
      "outputs": []
    },
    {
      "cell_type": "code",
      "metadata": {
        "id": "s5kF5GRbZJiT",
        "colab": {
          "base_uri": "https://localhost:8080/"
        },
        "outputId": "2983ab46-f87a-4309-9501-4eb9a58ed3bd"
      },
      "source": [
        "#Formateo de datos para entrenamiento\n",
        "x = [x1, x2]\n",
        "x = np.transpose(x)\n",
        "\n",
        "arreglo = np.asarray([y])\n",
        "arreglo.astype(int)\n",
        "arreglo"
      ],
      "execution_count": 11,
      "outputs": [
        {
          "output_type": "execute_result",
          "data": {
            "text/plain": [
              "array([[0., 0., 0., 1., 1., 0., 1., 1., 1., 1., 0., 0., 1., 1., 0., 1.,\n",
              "        1., 0., 1., 1., 0., 1., 0., 0., 1., 1., 1., 0., 0., 0., 1., 1.,\n",
              "        0., 1., 0., 0., 0., 1., 0., 0., 1., 0., 1., 0., 0., 0., 1., 1.,\n",
              "        1., 1., 1., 1., 1., 0., 0., 0., 1., 0., 1., 1., 1., 0., 0., 0.,\n",
              "        0., 0., 1., 0., 1., 1., 0., 1., 1., 1., 1., 1., 1., 1., 0., 0.,\n",
              "        1., 1., 1., 1., 1., 1., 0., 1., 1., 0., 1., 1., 0., 1., 1., 1.,\n",
              "        1., 1., 1., 1.]])"
            ]
          },
          "metadata": {},
          "execution_count": 11
        }
      ]
    },
    {
      "cell_type": "code",
      "metadata": {
        "id": "IwX7sPqGZLJ9"
      },
      "source": [
        "colores = []\n",
        "colores.append('red')  #aspirante rechazado\n",
        "colores.append('green') #aspirante admitido"
      ],
      "execution_count": 12,
      "outputs": []
    },
    {
      "cell_type": "code",
      "metadata": {
        "id": "Fko7wXqgZNX2",
        "colab": {
          "base_uri": "https://localhost:8080/",
          "height": 349
        },
        "outputId": "58d8deee-c373-48a9-8a0b-62b4c0fd651c"
      },
      "source": [
        "#Visualización de los datos\n",
        "fig = plt.figure()\n",
        "ax = fig.add_subplot(111)\n",
        "for i in range(1,100):\n",
        "  ax.scatter(x[i,0], x[i,1], color = colores[int(arreglo[0,i])])\n",
        "\n",
        "ax.set(title=\"Resultado de alumnos\", xlabel=\"Calificación primer examen\", ylabel=\"Calificación segundo examen\")"
      ],
      "execution_count": 13,
      "outputs": [
        {
          "output_type": "execute_result",
          "data": {
            "text/plain": [
              "[Text(0, 0.5, 'Calificación segundo examen'),\n",
              " Text(0.5, 0, 'Calificación primer examen'),\n",
              " Text(0.5, 1.0, 'Resultado de alumnos')]"
            ]
          },
          "metadata": {},
          "execution_count": 13
        },
        {
          "output_type": "display_data",
          "data": {
            "text/plain": [
              "<Figure size 432x288 with 1 Axes>"
            ],
            "image/png": "[encoded data removed]"
          },
          "metadata": {
            "needs_background": "light"
          }
        }
      ]
    },
    {
      "cell_type": "code",
      "metadata": {
        "id": "Af_ynJY_ZPXm"
      },
      "source": [
        "x_train, x_test, y_train, y_test = train_test_split(x, y, random_state=1)"
      ],
      "execution_count": 14,
      "outputs": []
    },
    {
      "cell_type": "code",
      "metadata": {
        "id": "e3-J2HwzZRHB",
        "colab": {
          "base_uri": "https://localhost:8080/"
        },
        "outputId": "10c81e72-547f-4dff-c9d7-bc0cb5f49fa3"
      },
      "source": [
        "#Creacion de la instancia de LogisticRegression, es decir crear el modelo de regresion logistica\n",
        "#Crea la instancia de regresión logística --> lr = LogisticRegression()\n",
        "\n",
        "\n",
        "#INSERTA TU CÓDIGO AQUI--------------------------------------------------------\n",
        "\n",
        "lr = LogisticRegression()\n",
        "\n",
        "#FIN DE TU CÓDIGO--------------------------------------------------------------\n",
        "\n",
        "#Entrenamiento\n",
        "#Comienza el entrenamiento llando haciendo uso de .fit\n",
        "#Uso de .fit:\n",
        "# lr.fit(X, Y)\n",
        "\n",
        "#INSERTA TU CÓDIGO AQUI--------------------------------------------------------\n",
        "\n",
        "lr.fit(x, y)\n",
        "\n",
        "#FIN DE TU CÓDIGO--------------------------------------------------------------"
      ],
      "execution_count": 17,
      "outputs": [
        {
          "output_type": "execute_result",
          "data": {
            "text/plain": [
              "LogisticRegression()"
            ]
          },
          "metadata": {},
          "execution_count": 17
        }
      ]
    },
    {
      "cell_type": "code",
      "metadata": {
        "id": "S0qEWxVSZTb9",
        "colab": {
          "base_uri": "https://localhost:8080/"
        },
        "outputId": "f3f1c4e3-de19-482b-f798-c3160d37442f"
      },
      "source": [
        "#Prediccion\n",
        "x_prueba = [(75,90)];\n",
        "y_pred = lr.predict(x_prueba)\n",
        "\n",
        "resultado=[]\n",
        "resultado.append(\"Rechazado\")\n",
        "resultado.append(\"Admitido\")\n",
        "\n",
        "print(\"====================================================\")\n",
        "print(\"El alumno con notas: \")\n",
        "print(x_prueba[0][0])\n",
        "print(x_prueba[0][1])\n",
        "print(\"Será: \")\n",
        "print(resultado[int(y_pred[0])])\n",
        "\n",
        "#Resultado esperado:\n",
        "#El alumno con notas: \n",
        "#10\n",
        "#90\n",
        "#Será: \n",
        "#Rechazado"
      ],
      "execution_count": 19,
      "outputs": [
        {
          "output_type": "stream",
          "name": "stdout",
          "text": [
            "====================================================\n",
            "El alumno con notas: \n",
            "75\n",
            "90\n",
            "Será: \n",
            "Admitido\n"
          ]
        }
      ]
    },
    {
      "cell_type": "code",
      "metadata": {
        "id": "_Wbbmy7BZf5A"
      },
      "source": [
        ""
      ],
      "execution_count": null,
      "outputs": []
    }
  ]
}